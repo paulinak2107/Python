{
 "cells": [
  {
   "cell_type": "markdown",
   "metadata": {},
   "source": [
    "# Zadanie 05 (a)\n",
    "---\n",
    "#### Rozwiąż równanie różniczkowe $$\\frac{dy}{dx} = y - x^2$$ na przedziale $x \\in <0,3>$ z warunkiem początkowym $y(0)=1$ korzystając z metod:\n",
    "+ metody Eulera\n",
    "+ metody Rungego-Kutty II rzędu\n",
    "+ metody Rungego-Kutty IV rzędu\n",
    "\n",
    "Porównaj zbierzność metod.\n",
    "\n",
    "**Punktacja**\n",
    "+ implemetacja metody Eulera **1p.**\n",
    "+ implemetacja metody Rungego-Kutty II rzędu **1p.**\n",
    "+ implemetacja metody Rungego-Kutty IV rzędu **1p.**\n",
    "+ porównanie zbierzności metod **1p.**"
   ]
  },
  {
   "cell_type": "markdown",
   "metadata": {},
   "source": [
    "## Teoria\n",
    "---\n",
    "$$ \\frac{dy}{dx} = f(x,y)$$ $$ \\int_{y_{i}}^{y_{i+1}} dy = \\int_{x_{i}}^{x_{i+1}} f(x,y) dx$$ $$y_{i+1} = y_{i} + \\int_{x_{i}}^{x_{i+1}} f(x,y) dx $$\n",
    "\n",
    "### Metoda Eulera\n",
    "$$\\begin{array}{lcl} y_{i+1}&=&y_{i} + f(x_i,y_i)(x_{i+1}-x_i) \\\\ y_{i+1}&=&y_{i} + h ~ f(x_i,y_i) \\end{array}$$\n",
    "\n",
    "### Metoda Rungego-Kutty II rzędu\n",
    "$$\\begin{array}{lcl} K_{1} & = & f(x_i,y_i) \\\\ K_2 & = & f(x_i+h,y_i+ h K_{1}) \\\\ y_{i+1} & = & y_{i} + (K_1 + K_2)\\frac{h}{2} \\end{array}$$\n",
    "\n",
    "### Metoda Rungego-Kutty IV rzędu\n",
    "$$\\begin{array}{lcl} K_{1} & = & f(x_i,y_i) \\\\ K_2 & = & f(x_i+\\frac{h}{2},y_i+\\frac{h}{2}K_{1}) \\\\ K_3 & = & f(x_i+\\frac{h}{2},y_i+\\frac{h}{2}K_{2}) \\\\ K_4 & = & f(x_i+h,y_i+hK_{3}) \\\\ y_{i+1} & = & y_{i} + \\frac{h}{6}(K_1+2K_2+2K_3+K_4) \\end{array}$$"
   ]
  },
  {
   "cell_type": "markdown",
   "metadata": {},
   "source": [
    "## Wykonanie\n",
    "---\n",
    "Wczytanie bibliotek"
   ]
  },
  {
   "cell_type": "code",
   "execution_count": 1,
   "metadata": {
    "collapsed": true
   },
   "outputs": [],
   "source": [
    "import numpy as np\n",
    "import matplotlib.pyplot as plt"
   ]
  },
  {
   "cell_type": "markdown",
   "metadata": {},
   "source": [
    "Deklaracja funkcji oraz przedziału, w którym będzie rozwiązywane równanie"
   ]
  },
  {
   "cell_type": "code",
   "execution_count": 2,
   "metadata": {
    "collapsed": true
   },
   "outputs": [],
   "source": [
    "f  = lambda x,y: y - x*x\n",
    "fa = lambda x: 2 + 2*x + x**2 - np.exp(x)\n",
    "\n",
    "a = 0\n",
    "b = 3"
   ]
  },
  {
   "cell_type": "markdown",
   "metadata": {},
   "source": [
    "Implementacja funkcji realizującej metodę Eulera"
   ]
  },
  {
   "cell_type": "code",
   "execution_count": 115,
   "metadata": {
    "collapsed": false
   },
   "outputs": [],
   "source": [
    "def euler(func, a, b, N):\n",
    "    \n",
    "    X = np.linspace(a,b,N)\n",
    "    Y = []\n",
    "    h = (b-a)/N\n",
    "    \n",
    "    y=1\n",
    "    y0=1\n",
    "    \n",
    "    for i in X:\n",
    "        y0=y\n",
    "        y= y0 + h*func(i,y0)\n",
    "        Y.append(y0)\n",
    "        \n",
    "    \n",
    "        \n",
    "    return np.array(X), np.array(Y)"
   ]
  },
  {
   "cell_type": "markdown",
   "metadata": {},
   "source": [
    "Sprawdzenie poprawności"
   ]
  },
  {
   "cell_type": "code",
   "execution_count": 116,
   "metadata": {
    "collapsed": false
   },
   "outputs": [
    {
     "name": "stdout",
     "output_type": "stream",
     "text": [
      "True\n",
      "4.40372012954\n"
     ]
    }
   ],
   "source": [
    "Xe, Ye = euler(f,a,b,10) \n",
    "print(sum(abs(Ye - np.array(fa(Xe)))) < 5)\n",
    "print(sum(abs(Ye - np.array(fa(Xe)))))"
   ]
  },
  {
   "cell_type": "markdown",
   "metadata": {},
   "source": [
    "Implementacja funkcji realizującej metodę Rungego-Kutty II rzędu"
   ]
  },
  {
   "cell_type": "code",
   "execution_count": 168,
   "metadata": {
    "collapsed": true
   },
   "outputs": [],
   "source": [
    "def rk2(func, a, b, N):\n",
    "    \n",
    "    X = np.linspace(a,b,N)\n",
    "    h = (b-a)/N\n",
    "    Y = []\n",
    "    y = 1\n",
    "    y0 = 1 \n",
    "    \n",
    "    for i in X:\n",
    "        y0=y\n",
    "        K1 = f(i,y0)\n",
    "        K2 = f(i+h,y0+h*K1)\n",
    "        y = y0+(h/2)*(K1+K2)\n",
    "        Y.append(y0)\n",
    "        \n",
    "    return np.array(X), np.array(Y)"
   ]
  },
  {
   "cell_type": "markdown",
   "metadata": {},
   "source": [
    "Sprawdzenie poprawności"
   ]
  },
  {
   "cell_type": "code",
   "execution_count": 169,
   "metadata": {
    "collapsed": false
   },
   "outputs": [
    {
     "name": "stdout",
     "output_type": "stream",
     "text": [
      "True\n",
      "2.80665833157\n"
     ]
    }
   ],
   "source": [
    "Xrk2, Yrk2 = rk2(f,a,b,10) \n",
    "print(sum(abs(Yrk2 - np.array(fa(Xrk2)))) < 3)\n",
    "print(sum(abs(Yrk2 - np.array(fa(Xrk2)))))"
   ]
  },
  {
   "cell_type": "markdown",
   "metadata": {},
   "source": [
    "Implementacja funkcji realizującej metodę Rungego-Kutty IV rzędu"
   ]
  },
  {
   "cell_type": "code",
   "execution_count": 172,
   "metadata": {
    "collapsed": true
   },
   "outputs": [],
   "source": [
    "def rk4(func, a, b, N):\n",
    "    X = np.linspace(a,b,N)\n",
    "    h = (b-a)/N\n",
    "    Y = []\n",
    "    y = 1\n",
    "    y0 = 1 \n",
    "    \n",
    "    for i in X:\n",
    "        y0 = y\n",
    "        K1 = f(i,y0)\n",
    "        K2 = f(i+h/2,y0+h/2*K1)\n",
    "        K3 = f(i+h/2,y0+h/2*K2)\n",
    "        K4 = f(i+h,y0+h*K3)\n",
    "        \n",
    "        y = y0+(h/6)*(K1+2*K2+2*K3+K4)\n",
    "        Y.append(y0)\n",
    "    \n",
    "           \n",
    "    return np.array(X), np.array(Y)"
   ]
  },
  {
   "cell_type": "markdown",
   "metadata": {},
   "source": [
    "Sprawdzenie poprawności"
   ]
  },
  {
   "cell_type": "code",
   "execution_count": 173,
   "metadata": {
    "collapsed": false
   },
   "outputs": [
    {
     "name": "stdout",
     "output_type": "stream",
     "text": [
      "True\n",
      "2.63141551317\n"
     ]
    }
   ],
   "source": [
    "Xrk4, Yrk4 = rk4(f,a,b,10) \n",
    "print(sum(abs(Yrk4 - np.array(fa(Xrk4)))) < 2.8)\n",
    "print(sum(abs(Yrk4 - np.array(fa(Xrk4)))))"
   ]
  },
  {
   "cell_type": "markdown",
   "metadata": {},
   "source": [
    "Porównanie zbierzności metod"
   ]
  },
  {
   "cell_type": "code",
   "execution_count": 174,
   "metadata": {
    "collapsed": false
   },
   "outputs": [
    {
     "data": {
      "image/png": "[encoded data removed]",
      "text/plain": [
       "<matplotlib.figure.Figure at 0x7f06cb4370b8>"
      ]
     },
     "metadata": {},
     "output_type": "display_data"
    }
   ],
   "source": [
    "N=10\n",
    "X = np.linspace(a,b,N)\n",
    "\n",
    "Xe =[]\n",
    "Ye =[]\n",
    "Xrk2 = []\n",
    "Xrk4 = []\n",
    "Yrk2 = []\n",
    "Yrk4 = []\n",
    "\n",
    "\n",
    "Xe, Ye = euler(f, a, b, 10)\n",
    "Xrk2, Yrk2 = rk2(f, a, b, 10)\n",
    "Xrk4, Yrk4 = rk4(f, a, b, 10)\n",
    "    \n",
    "plt.plot(Xe,Ye, c='black')\n",
    "plt.plot(Xrk2,Yrk2, c='green')\n",
    "plt.plot(Xrk4, Yrk4, c='blue')\n",
    "plt.show()"
   ]
  },
  {
   "cell_type": "code",
   "execution_count": null,
   "metadata": {
    "collapsed": true
   },
   "outputs": [],
   "source": []
  }
 ],
 "metadata": {
  "kernelspec": {
   "display_name": "Python 3",
   "language": "python",
   "name": "python3"
  },
  "language_info": {
   "codemirror_mode": {
    "name": "ipython",
    "version": 3
   },
   "file_extension": ".py",
   "mimetype": "text/x-python",
   "name": "python",
   "nbconvert_exporter": "python",
   "pygments_lexer": "ipython3",
   "version": "3.5.3"
  }
 },
 "nbformat": 4,
 "nbformat_minor": 2
}
