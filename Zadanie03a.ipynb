{
 "cells": [
  {
   "cell_type": "markdown",
   "metadata": {},
   "source": [
    "# Zadanie 03 (a)\n",
    "\n",
    "---\n",
    "#### Korzystając z iteracyjnej metody potęgowej wyznacz największą wartość własną oraz odpowiadający jej wektor własny dla macierzy \n",
    "\n",
    "$$ \\mathbf{A} = \\left[\\begin{array}{rrrrr} 6 & 5 &-5 \\\\ 2 & 6 &-2 \\\\ 2 & 5 &-1 \\\\ \\end{array}\\right]$$\n",
    "    \n",
    "**Punktacja**\n",
    "+ implemetacja metody potęgowej **3p.**\n",
    "+ wykres przedstawiający wartość maksymalnej wartości własnej w zależności od kroku iteracji **1p.**\n"
   ]
  },
  {
   "cell_type": "markdown",
   "metadata": {},
   "source": [
    "## Metoda potęgowa\n",
    "---\n",
    "\n",
    "Metodę można stosować do znajdowania wartości własnej o największym module i odpowiadającego jej wektora własnego badanej macierzy $\\mathbf{A}$. Algorytm metody jest następujący\n",
    "1. Wybierz wektor początkowy $x$ i znormalizuj go $$x = \\frac{x}{\\left\\Vert x \\right\\Vert}$$\n",
    "2. Pomnoż $x$ przez macierz $A$, otrzymany wektor znormalizuj $$x = \\mathbf{A} \\cdot x$$ $$x = \\frac{x}{\\left\\Vert x \\right\\Vert}$$\n",
    "3. Powtarzaj krok 2 `n` razy"
   ]
  },
  {
   "cell_type": "markdown",
   "metadata": {},
   "source": [
    "## Wykonanie\n",
    "---\n",
    "Wczytanie bibliotek"
   ]
  },
  {
   "cell_type": "code",
   "execution_count": 1,
   "metadata": {
    "collapsed": true
   },
   "outputs": [],
   "source": [
    "import numpy as np\n",
    "import matplotlib.pyplot as plt"
   ]
  },
  {
   "cell_type": "markdown",
   "metadata": {},
   "source": [
    "Przypisanie wartości macierzy A"
   ]
  },
  {
   "cell_type": "code",
   "execution_count": 2,
   "metadata": {
    "collapsed": false
   },
   "outputs": [
    {
     "name": "stdout",
     "output_type": "stream",
     "text": [
      "[[ 6  5 -5]\n",
      " [ 2  6 -2]\n",
      " [ 2  5 -1]]\n"
     ]
    }
   ],
   "source": [
    "A = np.array([[6,5,-5],[2,6,-2],[2,5,-1]])\n",
    "print(A)"
   ]
  },
  {
   "cell_type": "markdown",
   "metadata": {},
   "source": [
    "Implementacja metody potęgowej"
   ]
  },
  {
   "cell_type": "code",
   "execution_count": 38,
   "metadata": {
    "collapsed": false
   },
   "outputs": [],
   "source": [
    "def series_metod(M, v, n=100):\n",
    "    \n",
    "    v=v/np.linalg.norm(v)\n",
    "\n",
    "    \n",
    "    for i in range(n):\n",
    "        v=A @ v\n",
    "        l=np.linalg.norm(v)\n",
    "        v=v/l\n",
    "    \n",
    "    \n",
    "    # l - wartosc wlasna\n",
    "    # v - wektor wlasny\n",
    "    return l, v "
   ]
  },
  {
   "cell_type": "markdown",
   "metadata": {},
   "source": [
    "Wybór wartości dla wektora początkowego `x`"
   ]
  },
  {
   "cell_type": "code",
   "execution_count": 39,
   "metadata": {
    "collapsed": false
   },
   "outputs": [
    {
     "name": "stdout",
     "output_type": "stream",
     "text": [
      "[[ 12.]\n",
      " [ 22.]\n",
      " [ 13.]]\n"
     ]
    }
   ],
   "source": [
    "x = np.array([12, 22, 13], dtype=float).reshape((3,1))\n",
    "print(x)"
   ]
  },
  {
   "cell_type": "markdown",
   "metadata": {},
   "source": [
    "Obliczenie maksymalnej wartości własnej oraz odpowiadającego jej wektora własnego dla macierzy A"
   ]
  },
  {
   "cell_type": "code",
   "execution_count": 40,
   "metadata": {
    "collapsed": false
   },
   "outputs": [
    {
     "name": "stdout",
     "output_type": "stream",
     "text": [
      "6.0\n",
      "[[ 0.57735027]\n",
      " [ 0.57735027]\n",
      " [ 0.57735027]]\n"
     ]
    }
   ],
   "source": [
    "l, v = series_metod(A, x)\n",
    "print(l)\n",
    "print(v)"
   ]
  },
  {
   "cell_type": "markdown",
   "metadata": {},
   "source": [
    "Sprawdzenie poprawności wyniku"
   ]
  },
  {
   "cell_type": "code",
   "execution_count": 41,
   "metadata": {
    "collapsed": false
   },
   "outputs": [
    {
     "name": "stdout",
     "output_type": "stream",
     "text": [
      "True\n"
     ]
    }
   ],
   "source": [
    "print(np.allclose(A @ v, l * v))"
   ]
  },
  {
   "cell_type": "markdown",
   "metadata": {},
   "source": [
    "Modyfikacja funkcji implementujące metodę potegową tak aby pozwalała na określenie wartości maksymalnej wartości własnej w zależności od kroku iteracji"
   ]
  },
  {
   "cell_type": "code",
   "execution_count": 59,
   "metadata": {
    "collapsed": true
   },
   "outputs": [],
   "source": [
    "def series_metod02(M, v, n=100):\n",
    "    \n",
    "    z=[]\n",
    "    v=v/np.linalg.norm(v)\n",
    "    \n",
    "    for i in range(n):\n",
    "        v=A @ v\n",
    "        l=np.linalg.norm(v)\n",
    "        v=v/l\n",
    "        z.append(l)\n",
    "        z = np.array(z)\n",
    "        print(z)\n",
    "    return z\n",
    "   \n",
    "        "
   ]
  },
  {
   "cell_type": "markdown",
   "metadata": {},
   "source": [
    "Wyznacznie wartości maksymalnej wartości własnej w zależności od kroku iteracji"
   ]
  },
  {
   "cell_type": "code",
   "execution_count": 57,
   "metadata": {
    "collapsed": true
   },
   "outputs": [],
   "source": [
    "L = series_metod02(A, x)"
   ]
  },
  {
   "cell_type": "markdown",
   "metadata": {},
   "source": [
    "Wizualizacja otrzymanego wyniku"
   ]
  },
  {
   "cell_type": "code",
   "execution_count": 54,
   "metadata": {
    "collapsed": false
   },
   "outputs": [
    {
     "data": {
      "image/png": "[encoded data removed]",
      "text/plain": [
       "<matplotlib.figure.Figure at 0x7f5149b6a438>"
      ]
     },
     "metadata": {},
     "output_type": "display_data"
    }
   ],
   "source": [
    "plt.plot(L, marker='.')\n",
    "plt.show()"
   ]
  },
  {
   "cell_type": "code",
   "execution_count": null,
   "metadata": {
    "collapsed": true
   },
   "outputs": [],
   "source": []
  }
 ],
 "metadata": {
  "kernelspec": {
   "display_name": "Python 3",
   "language": "python",
   "name": "python3"
  },
  "language_info": {
   "codemirror_mode": {
    "name": "ipython",
    "version": 3
   },
   "file_extension": ".py",
   "mimetype": "text/x-python",
   "name": "python",
   "nbconvert_exporter": "python",
   "pygments_lexer": "ipython3",
   "version": "3.5.3"
  }
 },
 "nbformat": 4,
 "nbformat_minor": 2
}
