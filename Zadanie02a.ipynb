{
 "cells": [
  {
   "cell_type": "markdown",
   "metadata": {},
   "source": [
    "# Zadanie 02 (a)\n",
    "\n",
    "---\n",
    "\n",
    "#### Dokonaj dekompozycji LU metodą Doolittle'a, macierzy \n",
    "\n",
    "$$\\mathbf{A} = \\left[\\begin{array}{rrrrr} 9 & 8 &-2 & 2 &-2 \\\\  7 &-3 &-2 & 7 & 2 \\\\ 2 &-2 & 2 &-7 & 6 \\\\ 4 & 8 &-3 & 3 &-1 \\\\ 2 & 2 &-1 & 1 & 4 \\end{array}\\right]$$\n",
    "\n",
    "#### a następnie korzystając z macierzy $\\mathbf{L}$ oraz $\\mathbf{U}$ rozwiąż poniższy układ równań \n",
    "\n",
    "$$\\mathbf{A} \\cdot x = \\left[\\begin{array}{rrrrr} 9 & 8 &-2 & 2 &-2 \\\\  7 &-3 &-2 & 7 & 2 \\\\ 2 &-2 & 2 &-7 & 6 \\\\ 4 & 8 &-3 & 3 &-1 \\\\ 2 & 2 &-1 & 1 & 4 \\end{array}\\right] \\cdot \\left[\\begin{array}{c} x_{1} \\\\ x_{2} \\\\ x_{3} \\\\ x_{4} \\\\ x_{5} \\end{array}\\right] = \\left[\\begin{array}{r} 21 \\\\ 11 \\\\ -4 \\\\ 16 \\\\ 9 \\end{array}\\right]$$\n",
    "\n",
    "**Punktacja**\n",
    "+ funkcja implementacja metodę Doolittle **3p.**\n",
    "+ rozwiązanie układu równańc **1p.** (przy pomocy macierzy $\\mathbf{L}$ i $\\mathbf{U}$)"
   ]
  },
  {
   "cell_type": "markdown",
   "metadata": {},
   "source": [
    "## Teoria\n",
    "---\n",
    "### Dekomozycja LU\n",
    "\n",
    "W metodzie LU macierz współczynników $\\mathbf {A}$ zapisywana jest jako iloczyn dwóch macierzy trójkątnych, macierzy trójkątnej dolnej $\\mathbf {L}$ i macierzy trójkątnej górnej $\\mathbf {U}$:\n",
    "\n",
    "$$\\mathbf{A} = \\mathbf{L} \\cdot \\mathbf{U}$$ gdzie \n",
    "\n",
    "$\\mathbf{L} =\n",
    "\\begin{bmatrix}\n",
    "1      & 0      & \\cdots & 0 \\\\\n",
    "l_{21} & 1      & \\cdots & 0 \\\\\n",
    "\\vdots & \\vdots & \\ddots & 0 \\\\\n",
    "l_{n1} & l_{n2} & \\cdots & 1\n",
    "\\end{bmatrix}$ oraz $\\mathbf{U} = \n",
    "\\begin{bmatrix}u_{11} & u_{12} & \\cdots & u_{1n} \\\\\n",
    "0      & u_{22} & \\cdots & u_{2n} \\\\\n",
    "\\vdots & \\vdots & \\ddots & \\vdots \\\\\n",
    "0      & 0      & \\cdots & u_{nn}\n",
    "\\end{bmatrix}$\n",
    "\n",
    "###  Metoda Doolittle\n",
    "\n",
    "Metody Doolittle'a przedstawia wzory pozwalające na obliczenie poszczególnych wartości macierzy rozkładu, i tak elementy macierzy $\\mathbf{U}$ dane są wzorem\n",
    "$$u_{ij} = a_{ij} - \\sum_{k=1}^{i-1} l_{ik} u_{kj}$$ dla $j\\in\\{i,\\ i+1,\\ \\ldots,\\ n\\}$\n",
    "\n",
    "a elementy macierzy $\\mathbf{L}$ \n",
    "$$l_{ji} = \\frac{1}{u_{ii}} \\left(a_{ji} - \\sum_{k=1}^{i-1} l_{jk} u_{ki} \\right)$$ dla $j\\in\\{i+1,\\ i+2,\\ \\ldots,\\ n\\}$\n",
    "\n",
    "### Rozwiązanie układu równań przy pomocy macierzy $\\mathbf {L}$ i $\\mathbf {U}$\n",
    "\n",
    "Mając macierz trójkątną dolną oraz górną w łatwy sposób (oszczędny numerycznie) można rozwiązać układ równań liniowych, wystarczy zauważyć, że\n",
    "\n",
    "$$\\mathbf {L} \\cdot \\mathbf {U} \\cdot \\mathbf {x} =\\mathbf {y}$$\n",
    "\n",
    "stąd rozwiązanie otrzyamy przez rozwiązanie dwóch układów z macierzami trójkątnymi\n",
    "\n",
    "$$\\mathbf{L} \\cdot \\mathbf{z} = \\mathbf{y}$$\n",
    "$$\\mathbf{U} \\cdot \\mathbf{x} = \\mathbf{z}$$\n"
   ]
  },
  {
   "cell_type": "markdown",
   "metadata": {},
   "source": [
    "## Wykonanie\n",
    "---\n",
    "Wczytanie bibliotek"
   ]
  },
  {
   "cell_type": "code",
   "execution_count": 1,
   "metadata": {
    "collapsed": true
   },
   "outputs": [],
   "source": [
    "import numpy as np\n",
    "from scipy.linalg import solve_triangular"
   ]
  },
  {
   "cell_type": "markdown",
   "metadata": {},
   "source": [
    "Przypisanie wartości dla macierzy A"
   ]
  },
  {
   "cell_type": "code",
   "execution_count": 2,
   "metadata": {
    "collapsed": false
   },
   "outputs": [
    {
     "name": "stdout",
     "output_type": "stream",
     "text": [
      "[[ 9  8 -2  2 -2]\n",
      " [ 7 -3 -2  7  2]\n",
      " [ 2 -2  2 -7  6]\n",
      " [ 4  8 -3  3 -1]\n",
      " [ 2  2 -1  1  4]]\n"
     ]
    }
   ],
   "source": [
    "A = np.array([[9, 8,-2, 2,-2],[7,-3,-2, 7, 2],[2,-2,2,-7,6],[4, 8,-3, 3,-1],[2, 2,-1, 1, 4]])\n",
    "print(A)"
   ]
  },
  {
   "cell_type": "markdown",
   "metadata": {},
   "source": [
    "Implementacja metody Doolittle"
   ]
  },
  {
   "cell_type": "code",
   "execution_count": 133,
   "metadata": {
    "collapsed": true
   },
   "outputs": [],
   "source": [
    "def doolittle(M):\n",
    "    L = np.identity(M.shape[0])\n",
    "    U = np.zeros(M.shape)\n",
    "    \n",
    "    for i in range(M.shape[0]):\n",
    "        for j in range(i+1):\n",
    "            \n",
    "            r = 0\n",
    "            for k in range(j):\n",
    "                r+=L[j,k]*U[k,i]\n",
    "                \n",
    "            U[j,i]=A[j,i]-r\n",
    "        \n",
    "        for j in range(i+1,M.shape[0]):\n",
    "            \n",
    "            r = 0\n",
    "            for k in range(j):\n",
    "                r+=L[j,k]*U[k,i]\n",
    "      \n",
    "            L[j,i]=1/U[i,i]*(A[j,i]-r)\n",
    "        \n",
    "    return L, U"
   ]
  },
  {
   "cell_type": "markdown",
   "metadata": {},
   "source": [
    "Obliczenie macierzy $\\mathbf{L}$ oraz $\\mathbf{U}$ dla macierzy $\\mathbf{A}$"
   ]
  },
  {
   "cell_type": "code",
   "execution_count": 135,
   "metadata": {
    "collapsed": false
   },
   "outputs": [
    {
     "data": {
      "text/plain": [
       "array([[ 9.        ,  8.        , -2.        ,  2.        , -2.        ],\n",
       "       [ 0.        , -9.22222222, -0.44444444,  5.44444444,  3.55555556],\n",
       "       [ 0.        ,  0.        ,  2.62650602, -9.6746988 ,  4.98795181],\n",
       "       [ 0.        ,  0.        ,  0.        , -3.83027523,  6.01834862],\n",
       "       [ 0.        ,  0.        ,  0.        ,  0.        ,  3.40718563]])"
      ]
     },
     "execution_count": 135,
     "metadata": {},
     "output_type": "execute_result"
    }
   ],
   "source": [
    "L, U = doolittle(A)\n",
    "U"
   ]
  },
  {
   "cell_type": "markdown",
   "metadata": {},
   "source": [
    "Sprawdzenie poprawności wyniki. Jeżeli funkcja zwróci wartość `True` to iloczyn macierzy  $\\mathbf{L}$ i  $\\mathbf{U}$ jest równy macierzy $\\mathbf{A}$."
   ]
  },
  {
   "cell_type": "code",
   "execution_count": 136,
   "metadata": {
    "collapsed": false
   },
   "outputs": [
    {
     "name": "stdout",
     "output_type": "stream",
     "text": [
      "True\n"
     ]
    }
   ],
   "source": [
    "print(np.allclose(L @ U, A))"
   ]
  },
  {
   "cell_type": "markdown",
   "metadata": {},
   "source": [
    "Rozwiązanie układu równań"
   ]
  },
  {
   "cell_type": "code",
   "execution_count": 146,
   "metadata": {
    "collapsed": false
   },
   "outputs": [
    {
     "name": "stdout",
     "output_type": "stream",
     "text": [
      "[ 1.  2.  3.  2.  1.]\n"
     ]
    }
   ],
   "source": [
    "y = np.array([21,11,-4,16,9])\n",
    "\n",
    "z = solve_triangular(L, y, lower=True)\n",
    "x = solve_triangular(U, z, lower=False)\n",
    "print(x)"
   ]
  },
  {
   "cell_type": "code",
   "execution_count": 147,
   "metadata": {
    "collapsed": false
   },
   "outputs": [
    {
     "name": "stdout",
     "output_type": "stream",
     "text": [
      "True\n"
     ]
    }
   ],
   "source": [
    "print(np.allclose(A @ x, y))"
   ]
  }
 ],
 "metadata": {
  "kernelspec": {
   "display_name": "Python 3",
   "language": "python",
   "name": "python3"
  },
  "language_info": {
   "codemirror_mode": {
    "name": "ipython",
    "version": 3
   },
   "file_extension": ".py",
   "mimetype": "text/x-python",
   "name": "python",
   "nbconvert_exporter": "python",
   "pygments_lexer": "ipython3",
   "version": "3.5.3"
  }
 },
 "nbformat": 4,
 "nbformat_minor": 2
}
