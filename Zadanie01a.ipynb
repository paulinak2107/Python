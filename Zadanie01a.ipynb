{
 "cells": [
  {
   "cell_type": "markdown",
   "metadata": {},
   "source": [
    "# Zadanie 01 (a)\n",
    "\n",
    "---\n",
    "\n",
    "#### Wyznacz metodą bisekcji miejsca zerowe funkcji $$f(x) = -3x^3 + 6x - 1$$ na przedziale $x \\in (-2,2)$.\n",
    "\n",
    "\n",
    "**Wymagania**\n",
    "+ funkcja zawierająca implementacje metody bisekcji **[2p.]**\n",
    "+ funkcja pozwalająca na wyznaczenie kilku miejsc zerowych **[1p.]**\n",
    "+ prezentacja otrzymanych wyników wraz z analitycznym wykresem funkcji oraz zaznaczenie ,,punktów pośrednich\" dla wybrango miejsca zerowego **[1p.]**\n"
   ]
  },
  {
   "cell_type": "markdown",
   "metadata": {},
   "source": [
    "## Metoda bisekcji\n",
    "---\n",
    "![title](http://www.if.pw.edu.pl/~ryczkowski/download/MN/01/Bisection_method00.png)\n",
    "\n",
    "Algorymt metody bisekcji:\n",
    "1. Wybieramy przedział $[a, b]$ tak aby $f(a)f(b) < 0$\n",
    "2. Dzielimy przedział na połowy $$x = a + \\frac{b-a}{2}$$\n",
    "3. Mamy trzy przypadki\n",
    "\n",
    "  3.1 Jeżeli $f(x) = 0$ (równość numeryczna) to znaleziono pierwiastek KONIEC\n",
    "  \n",
    "  3.2 Jeżeli $f(x)$ ma ten sam znak co $f(a)$ to pierwiastka należy szukać w przedziale $(x, b)$ wracamy do kroku nr 2 z nowym przedziałem\n",
    "  \n",
    "  3.3 Jeżeli $f(x)$ ma ten sam znak co $f(b)$ to pierwiastka należy szukać w przesziale $(a, x)$ wracamy do kroku nr 2 z nowym przedziałem\n",
    "\n",
    "---"
   ]
  },
  {
   "cell_type": "markdown",
   "metadata": {},
   "source": [
    "## Wykonanie\n",
    "---\n",
    "Wczytanie bibliotek"
   ]
  },
  {
   "cell_type": "code",
   "execution_count": 2,
   "metadata": {
    "collapsed": true
   },
   "outputs": [],
   "source": [
    "import numpy as np\n",
    "import matplotlib.pyplot as plt"
   ]
  },
  {
   "cell_type": "markdown",
   "metadata": {},
   "source": [
    "Deklaracja funkcji, dla której będą wyznczana miejsca zerowe (*wyrażenie lambda*)"
   ]
  },
  {
   "cell_type": "code",
   "execution_count": 3,
   "metadata": {
    "collapsed": true
   },
   "outputs": [],
   "source": [
    "f = lambda x: -3*np.power(x,3) + 6*x - 1"
   ]
  },
  {
   "cell_type": "markdown",
   "metadata": {},
   "source": [
    "Implementacja funkcji realizującej metodę bisekcji"
   ]
  },
  {
   "cell_type": "code",
   "execution_count": 4,
   "metadata": {
    "collapsed": false
   },
   "outputs": [],
   "source": [
    "def bisection(func, a, b, err = 1e-10):\n",
    "    \n",
    "    while func(a)*func(b) < 0:\n",
    "        \n",
    "        x=a + (b-a)/2\n",
    "        \n",
    "        if abs(func(x)) < err:\n",
    "            return x\n",
    "        elif func(x)*func(a)>0:\n",
    "            a=x\n",
    "        elif func(x)*func(b)>0:\n",
    "            b=x\n",
    "            \n",
    "    "
   ]
  },
  {
   "cell_type": "markdown",
   "metadata": {},
   "source": [
    "Wyznaczenie jednego miejsca zerowego"
   ]
  },
  {
   "cell_type": "code",
   "execution_count": 5,
   "metadata": {
    "collapsed": false
   },
   "outputs": [
    {
     "name": "stdout",
     "output_type": "stream",
     "text": [
      "-1.4911540841058013\n"
     ]
    }
   ],
   "source": [
    "a = -2\n",
    "b =  2\n",
    "\n",
    "z = bisection(f, -2, 2)\n",
    "print(z)"
   ]
  },
  {
   "cell_type": "markdown",
   "metadata": {},
   "source": [
    "Sprawdzenie wyniku"
   ]
  },
  {
   "cell_type": "code",
   "execution_count": 6,
   "metadata": {
    "collapsed": false
   },
   "outputs": [
    {
     "data": {
      "image/png": "[encoded data removed]",
      "text/plain": [
       "<matplotlib.figure.Figure at 0x7f7490fc2518>"
      ]
     },
     "metadata": {},
     "output_type": "display_data"
    }
   ],
   "source": [
    "x = np.linspace(a, b, 100)\n",
    "\n",
    "plt.axhline(0, linestyle='--', linewidth=1, color='black')\n",
    "plt.plot(x, f(x), color = 'blue')\n",
    "plt.plot(z, f(z), marker='.', markersize=15, color=\"red\")\n",
    "plt.show()"
   ]
  },
  {
   "cell_type": "markdown",
   "metadata": {},
   "source": [
    "Wyznaczenie wszystkich miejsc zerowych na zadanym przedziale"
   ]
  },
  {
   "cell_type": "code",
   "execution_count": 8,
   "metadata": {
    "collapsed": false,
    "scrolled": false
   },
   "outputs": [
    {
     "name": "stdout",
     "output_type": "stream",
     "text": [
      "[-2.  -1.5 -1.  -0.5  0.   0.5  1.   1.5]\n"
     ]
    }
   ],
   "source": [
    "steps = np.arange(a,b, 0.5)\n",
    "print(steps)"
   ]
  },
  {
   "cell_type": "code",
   "execution_count": 9,
   "metadata": {
    "collapsed": false
   },
   "outputs": [],
   "source": [
    "z = []\n",
    "for i in range(len(steps)-1):\n",
    "    if f(steps[i])*f(steps[i+1]) < 0:\n",
    "        z.append(bisection(f,steps[i],steps[i+1]))\n",
    "\n",
    "z = np.array(z)"
   ]
  },
  {
   "cell_type": "markdown",
   "metadata": {},
   "source": [
    "Sprawdzenie wyników"
   ]
  },
  {
   "cell_type": "code",
   "execution_count": 10,
   "metadata": {
    "collapsed": false
   },
   "outputs": [
    {
     "data": {
      "image/png": "[encoded data removed]",
      "text/plain": [
       "<matplotlib.figure.Figure at 0x7f7490c92b38>"
      ]
     },
     "metadata": {},
     "output_type": "display_data"
    }
   ],
   "source": [
    "plt.axhline(0, linestyle='--', linewidth=1, color='black')\n",
    "plt.plot(x, f(x), color='blue')\n",
    "plt.plot(z, f(z), marker='.', linestyle=' ', markersize=15, color=\"red\")\n",
    "plt.show()"
   ]
  },
  {
   "cell_type": "code",
   "execution_count": 11,
   "metadata": {
    "collapsed": false
   },
   "outputs": [
    {
     "name": "stdout",
     "output_type": "stream",
     "text": [
      "[-1.49115408  0.16908366  1.32207043]\n"
     ]
    }
   ],
   "source": [
    "print(z)"
   ]
  },
  {
   "cell_type": "markdown",
   "metadata": {},
   "source": [
    "Wyznaczenie dla jednego z miejsc zerowych pukntów pośrednich"
   ]
  },
  {
   "cell_type": "code",
   "execution_count": 55,
   "metadata": {
    "collapsed": false
   },
   "outputs": [],
   "source": [
    "def bisection02(func, a, b, err = 1e-10):\n",
    "    while func(a)*func(b) < 0:\n",
    "        \n",
    "        y=a + (b-a)/2\n",
    "        \n",
    "        if abs(func(y)) < err:\n",
    "            return y\n",
    "        elif func(y)*func(a)>0:\n",
    "            \n",
    "        elif func(b)*func(y)>0:  \n",
    "            b=y\n",
    "            \n"
   ]
  },
  {
   "cell_type": "code",
   "execution_count": 56,
   "metadata": {
    "collapsed": false
   },
   "outputs": [
    {
     "name": "stdout",
     "output_type": "stream",
     "text": [
      "0.0\n"
     ]
    }
   ],
   "source": [
    "z_steps = bisection02(f, -2, 2)\n",
    "z_steps = np.array(z_steps)\n",
    "print(z_steps)"
   ]
  },
  {
   "cell_type": "markdown",
   "metadata": {},
   "source": [
    "Wizualizacja wyniku"
   ]
  },
  {
   "cell_type": "code",
   "execution_count": 50,
   "metadata": {
    "collapsed": false
   },
   "outputs": [
    {
     "data": {
      "image/png": "[encoded data removed]",
      "text/plain": [
       "<matplotlib.figure.Figure at 0x7f74909279e8>"
      ]
     },
     "metadata": {},
     "output_type": "display_data"
    }
   ],
   "source": [
    "plt.axhline(0, linestyle='--', linewidth=1, color='black')\n",
    "plt.plot(x, f(x), color='blue')\n",
    "plt.plot(z_steps, f(z_steps), marker='.', linestyle=' ', markersize=15, color=\"red\")\n",
    "plt.show()"
   ]
  }
 ],
 "metadata": {
  "kernelspec": {
   "display_name": "Python 3",
   "language": "python",
   "name": "python3"
  },
  "language_info": {
   "codemirror_mode": {
    "name": "ipython",
    "version": 3
   },
   "file_extension": ".py",
   "mimetype": "text/x-python",
   "name": "python",
   "nbconvert_exporter": "python",
   "pygments_lexer": "ipython3",
   "version": "3.5.3"
  }
 },
 "nbformat": 4,
 "nbformat_minor": 2
}
