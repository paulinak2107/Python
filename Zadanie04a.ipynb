{
 "cells": [
  {
   "cell_type": "markdown",
   "metadata": {},
   "source": [
    "# Zadanie 04 (a)\n",
    "---\n",
    "#### Oblicz numeryczną wartość całki $$\\int_{0}^{4} x e^{2x} dx$$ korzystając z metod:\n",
    "+ metody prostokątów\n",
    "+ metody trapezów\n",
    "+ metody Simpsona 1/3\n",
    "\n",
    "\n",
    "**Punktacja**\n",
    "+ impementacja metody prostokątów **1p.**\n",
    "+ impementacja metody trapezów **1p.**\n",
    "+ impementacja metody Simpsona 1/3 **1p.**\n",
    "+ wykres przedstawiający wartości całki w zależności od liczby przedziałów użytych do jej obliczenia (dla wszystkich metod) **1p.**\n"
   ]
  },
  {
   "cell_type": "markdown",
   "metadata": {},
   "source": [
    "## Metoda prostokątów\n",
    "---\n",
    "![title](http://www.if.pw.edu.pl/~ryczkowski/download/MN/04/rectangle.png)\n",
    "\n",
    "$$I(f) = \\sum_{i=1}^{N} f(x_i)(x_{i+1}-x_i) = h\\sum_{i=1}^{N} f(x_i)$$"
   ]
  },
  {
   "cell_type": "markdown",
   "metadata": {},
   "source": [
    "## Metoda trapezów\n",
    "---\n",
    "\n",
    "$$I(f) = \\frac{h}{2} \\sum_{i=1}^{N} \\left[ f(x_i)+f(x_{i+1}) \\right]$$"
   ]
  },
  {
   "cell_type": "markdown",
   "metadata": {},
   "source": [
    "## Metoda Simpsona 1/3\n",
    "---\n",
    "![title](http://www.if.pw.edu.pl/~ryczkowski/download/MN/04/simpsona13.png)\n",
    "\n",
    "$$I(f) = \\frac{h}{3} \\sum_{i=2,4,6}^{N} \\left[ f(x_{i-1}) + 4f(x) + f(x_{i+1}) \\right] $$"
   ]
  },
  {
   "cell_type": "markdown",
   "metadata": {},
   "source": [
    "## Wykonanie\n",
    "---\n",
    "Wczytanie bibliotek"
   ]
  },
  {
   "cell_type": "code",
   "execution_count": 42,
   "metadata": {
    "collapsed": true
   },
   "outputs": [],
   "source": [
    "import numpy as np\n",
    "import matplotlib.pyplot as plt\n",
    "import scipy.integrate as integrate"
   ]
  },
  {
   "cell_type": "markdown",
   "metadata": {},
   "source": [
    "Deklaracja funkcji oraz przedziału dla których liczona będzia całka"
   ]
  },
  {
   "cell_type": "code",
   "execution_count": 43,
   "metadata": {
    "collapsed": true
   },
   "outputs": [],
   "source": [
    "f = lambda x: x*np.exp(2*x)\n",
    "a = 0\n",
    "b = 4"
   ]
  },
  {
   "cell_type": "markdown",
   "metadata": {},
   "source": [
    "Implementacja funkcji realizującej metodę prostokątów"
   ]
  },
  {
   "cell_type": "code",
   "execution_count": 44,
   "metadata": {
    "collapsed": false
   },
   "outputs": [],
   "source": [
    "def rectangle(func, a, b, N):\n",
    "    \n",
    "    I = 0\n",
    "    h = (b-a)/N\n",
    "  \n",
    "    for x in range (N):\n",
    "        x=x*h+a\n",
    "        I+=h*f(x)\n",
    "    \n",
    "    return I"
   ]
  },
  {
   "cell_type": "markdown",
   "metadata": {},
   "source": [
    "Sprawdzenie poprawności"
   ]
  },
  {
   "cell_type": "code",
   "execution_count": 45,
   "metadata": {
    "collapsed": false
   },
   "outputs": [
    {
     "name": "stdout",
     "output_type": "stream",
     "text": [
      "True\n",
      "4982.02638838\n"
     ]
    }
   ],
   "source": [
    "print(abs(rectangle(f,a,b,100)-integrate.quad(f, a, b)[0]) < 250)\n",
    "print(abs(rectangle(f,a,b,100)))"
   ]
  },
  {
   "cell_type": "markdown",
   "metadata": {},
   "source": [
    "Implementacja funkcji realizującej metodę trapezów"
   ]
  },
  {
   "cell_type": "code",
   "execution_count": 46,
   "metadata": {
    "collapsed": false
   },
   "outputs": [],
   "source": [
    "def trapezoidal(func, a, b, N):\n",
    "    \n",
    "    I = 0\n",
    "    h=(b-a)/N\n",
    "    \n",
    "    \n",
    "    for x in range (N):\n",
    "        x=x*h+a\n",
    "        I+=(h/2)*(f(x)+f(x+h))\n",
    "        \n",
    "        \n",
    "    return I"
   ]
  },
  {
   "cell_type": "markdown",
   "metadata": {},
   "source": [
    "Sprawdzenie poprawności"
   ]
  },
  {
   "cell_type": "code",
   "execution_count": 47,
   "metadata": {
    "collapsed": false
   },
   "outputs": [
    {
     "name": "stdout",
     "output_type": "stream",
     "text": [
      "True\n",
      "5220.50302735\n"
     ]
    }
   ],
   "source": [
    "print(abs(trapezoidal(f,a,b,100)-integrate.quad(f, a, b)[0]) < 5)\n",
    "print(abs(trapezoidal(f,a,b,100)))"
   ]
  },
  {
   "cell_type": "markdown",
   "metadata": {},
   "source": [
    "Implementacja funkcji realizującej metodę Simpsona 1/3"
   ]
  },
  {
   "cell_type": "code",
   "execution_count": 102,
   "metadata": {
    "collapsed": true
   },
   "outputs": [],
   "source": [
    "def simpsona13(func, a, b, N):\n",
    "    \n",
    "\n",
    "    I = 0\n",
    "    h=(b-a)/N\n",
    "    \n",
    "    for x in range (0,N,2):\n",
    "        x=x*h+a\n",
    "        I+=(h/3)*(f(x)+4*f(x+h)+f(x+2*h))\n",
    "    return I"
   ]
  },
  {
   "cell_type": "markdown",
   "metadata": {},
   "source": [
    "Sprawdzenie poprawności"
   ]
  },
  {
   "cell_type": "code",
   "execution_count": 103,
   "metadata": {
    "collapsed": false
   },
   "outputs": [
    {
     "name": "stdout",
     "output_type": "stream",
     "text": [
      "True\n",
      "5216.92834089\n"
     ]
    }
   ],
   "source": [
    "print(abs(simpsona13(f,a,b,100)-integrate.quad(f, a, b)[0]) < 1)\n",
    "print(abs(simpsona13(f,a,b,100)))"
   ]
  },
  {
   "cell_type": "markdown",
   "metadata": {},
   "source": [
    "Porównanie zbierzności metod"
   ]
  },
  {
   "cell_type": "code",
   "execution_count": 113,
   "metadata": {
    "collapsed": false
   },
   "outputs": [
    {
     "data": {
      "image/png": "[encoded data removed]",
      "text/plain": [
       "<matplotlib.figure.Figure at 0x7fcc0af15860>"
      ]
     },
     "metadata": {},
     "output_type": "display_data"
    }
   ],
   "source": [
    "Nmax = 1000\n",
    "N = range(2,Nmax,2)\n",
    "\n",
    "tr=[]\n",
    "re=[]\n",
    "se=[]\n",
    "for x in N:\n",
    "    t=trapezoidal(f,a,b,x)\n",
    "    tr.append(t)\n",
    "    s=simpsona13(f,a,b,x)\n",
    "    se.append(s)\n",
    "    r=rectangle(f,a,b,x)\n",
    "    re.append(r)\n",
    "\n",
    "\n",
    "\n",
    "\n",
    "plt.axhline(y=integrate.quad(f, a, b)[0], ls='--', c='grey')\n",
    "plt.semilogx(N,tr, c='blue')\n",
    "plt.semilogx(N,se,c='black')\n",
    "plt.semilogx(N,re, c='green')\n",
    "plt.show()"
   ]
  },
  {
   "cell_type": "code",
   "execution_count": 101,
   "metadata": {
    "collapsed": false
   },
   "outputs": [
    {
     "data": {
      "text/plain": [
       "0"
      ]
     },
     "execution_count": 101,
     "metadata": {},
     "output_type": "execute_result"
    }
   ],
   "source": [
    "\n",
    "simpsona13(f,a,b,2)"
   ]
  }
 ],
 "metadata": {
  "kernelspec": {
   "display_name": "Python 3",
   "language": "python",
   "name": "python3"
  },
  "language_info": {
   "codemirror_mode": {
    "name": "ipython",
    "version": 3
   },
   "file_extension": ".py",
   "mimetype": "text/x-python",
   "name": "python",
   "nbconvert_exporter": "python",
   "pygments_lexer": "ipython3",
   "version": "3.5.3"
  }
 },
 "nbformat": 4,
 "nbformat_minor": 2
}
